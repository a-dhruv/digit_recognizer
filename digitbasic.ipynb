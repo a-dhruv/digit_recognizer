{
 "cells": [
  {
   "cell_type": "code",
   "execution_count": 194,
   "metadata": {
    "collapsed": true
   },
   "outputs": [],
   "source": [
    "from sklearn import datasets\n",
    "from sklearn.svm import SVC\n",
    "from sklearn import svm\n",
    "from scipy import misc\n",
    "import pandas as pd\n",
    "import seaborn as sns\n",
    "import numpy as np\n",
    "import matplotlib.pyplot as plt"
   ]
  },
  {
   "cell_type": "code",
   "execution_count": 195,
   "metadata": {
    "collapsed": true
   },
   "outputs": [],
   "source": [
    "digits = datasets.load_digits()"
   ]
  },
  {
   "cell_type": "code",
   "execution_count": 196,
   "metadata": {},
   "outputs": [
    {
     "name": "stdout",
     "output_type": "stream",
     "text": [
      "0\n",
      "[[  0.   0.   6.  16.  13.  11.   1.   0.]\n",
      " [  0.   0.  16.  15.  12.  16.   1.   0.]\n",
      " [  0.   3.  16.   7.   0.  13.   6.   0.]\n",
      " [  0.   4.  16.   0.   0.  10.   8.   0.]\n",
      " [  0.   8.  16.   0.   0.  14.   6.   0.]\n",
      " [  0.   5.  16.   7.   9.  16.   5.   0.]\n",
      " [  0.   1.  15.  16.  16.  16.   1.   0.]\n",
      " [  0.   0.   6.  16.  14.   6.   0.   0.]]\n"
     ]
    },
    {
     "data": {
      "image/png": "[encoded data removed]",
      "text/plain": [
       "<matplotlib.figure.Figure at 0x114bc9d30>"
      ]
     },
     "metadata": {},
     "output_type": "display_data"
    }
   ],
   "source": [
    "print(digits.target[-4])\n",
    "print(digits.images[-4])\n",
    "plt.imshow(digits.images[-4], cmap=plt.cm.gray_r, interpolation=\"nearest\")\n",
    "plt.show()"
   ]
  },
  {
   "cell_type": "code",
   "execution_count": 197,
   "metadata": {},
   "outputs": [
    {
     "data": {
      "image/png": "[encoded data removed]",
      "text/plain": [
       "<matplotlib.figure.Figure at 0x114c26860>"
      ]
     },
     "metadata": {},
     "output_type": "display_data"
    }
   ],
   "source": [
    "sns.set(style=\"darkgrid\")\n",
    "ax = sns.countplot(x=\"target\", data=digits)\n",
    "plt.show()"
   ]
  },
  {
   "cell_type": "code",
   "execution_count": 198,
   "metadata": {},
   "outputs": [
    {
     "name": "stdout",
     "output_type": "stream",
     "text": [
      "Prediction: [0]\n"
     ]
    },
    {
     "data": {
      "image/png": "[encoded data removed]",
      "text/plain": [
       "<matplotlib.figure.Figure at 0x1143e3400>"
      ]
     },
     "metadata": {},
     "output_type": "display_data"
    }
   ],
   "source": [
    "clf = svm.SVC(gamma = 0.001, C=100)\n",
    "x,y = digits.data[:-5], digits.target[:-5]\n",
    "\n",
    "clf.fit(x,y)\n",
    "\n",
    "print('Prediction:', clf.predict(digits.data[[-4]]))\n",
    "\n",
    "plt.imshow(digits.images[-4], cmap=plt.cm.gray_r, interpolation=\"nearest\")\n",
    "plt.show()"
   ]
  },
  {
   "cell_type": "code",
   "execution_count": 210,
   "metadata": {},
   "outputs": [
    {
     "name": "stdout",
     "output_type": "stream",
     "text": [
      "0\n",
      "[[  0.   0.   6.  16.  13.  11.   1.   0.]\n",
      " [  0.   0.  16.  15.  12.  16.   1.   0.]\n",
      " [  0.   3.  16.   7.   0.  13.   6.   0.]\n",
      " [  0.   4.  16.   0.   0.  10.   8.   0.]\n",
      " [  0.   8.  16.   0.   0.  14.   6.   0.]\n",
      " [  0.   5.  16.   7.   9.  16.   5.   0.]\n",
      " [  0.   1.  15.  16.  16.  16.   1.   0.]\n",
      " [  0.   0.   6.  16.  14.   6.   0.   0.]]\n",
      "float64\n"
     ]
    }
   ],
   "source": [
    "print(digits.target[-4])\n",
    "print(digits.images[-4])\n",
    "print(digits.images.dtype)"
   ]
  },
  {
   "cell_type": "code",
   "execution_count": 211,
   "metadata": {},
   "outputs": [],
   "source": [
    "img1 = misc.imread(\"0.jpg\")\n",
    "img1 = misc.imresize(img, (8,8))\n",
    "img1 = img.astype(digits.images.dtype)\n",
    "img1 = misc.bytescale(img, high=16, low=0)\n"
   ]
  },
  {
   "cell_type": "code",
   "execution_count": 212,
   "metadata": {},
   "outputs": [],
   "source": [
    "x_test = []\n",
    "\n",
    "for eachRow in img1:\n",
    "    for eachPixel in eachRow:\n",
    "        x_test.append(sum(eachPixel)/3.0)"
   ]
  },
  {
   "cell_type": "code",
   "execution_count": 213,
   "metadata": {},
   "outputs": [
    {
     "name": "stdout",
     "output_type": "stream",
     "text": [
      "[4]\n"
     ]
    }
   ],
   "source": [
    "print(clf.predict([x_test]))"
   ]
  },
  {
   "cell_type": "code",
   "execution_count": 214,
   "metadata": {},
   "outputs": [
    {
     "name": "stdout",
     "output_type": "stream",
     "text": [
      "[0.0, 0.0, 0.0, 0.0, 0.0, 0.0, 0.0, 0.0, 0.0, 0.0, 2.0, 9.0, 11.0, 4.0, 0.0, 0.0, 0.0, 1.0, 15.0, 9.0, 8.0, 16.0, 2.0, 0.0, 0.0, 3.0, 14.0, 0.0, 0.0, 11.0, 7.0, 0.0, 0.0, 3.0, 15.0, 0.0, 0.0, 9.0, 8.0, 0.0, 0.0, 0.0, 12.0, 13.0, 9.0, 16.0, 5.0, 0.0, 0.0, 0.0, 1.0, 6.0, 8.0, 5.0, 0.0, 0.0, 0.0, 0.0, 0.0, 0.0, 0.0, 0.0, 0.0, 0.0]\n"
     ]
    }
   ],
   "source": [
    "print(x_test)"
   ]
  },
  {
   "cell_type": "code",
   "execution_count": 215,
   "metadata": {},
   "outputs": [
    {
     "data": {
      "image/png": "[encoded data removed]",
      "text/plain": [
       "<matplotlib.figure.Figure at 0x1142dacf8>"
      ]
     },
     "metadata": {},
     "output_type": "display_data"
    }
   ],
   "source": [
    "img2 = misc.imread(\"1.jpg\")\n",
    "img2 = misc.imresize(img, (8,8))\n",
    "img2 = img.astype(digits.images.dtype)\n",
    "img2 = misc.bytescale(img, high=16, low=0)\n",
    "\n",
    "plt.imshow(img2, cmap=plt.cm.gray_r, interpolation=\"nearest\")\n",
    "plt.show()"
   ]
  },
  {
   "cell_type": "code",
   "execution_count": 218,
   "metadata": {},
   "outputs": [
    {
     "name": "stdout",
     "output_type": "stream",
     "text": [
      "[[[ 0  0  0]\n",
      "  [ 0  0  0]\n",
      "  [ 0  0  0]\n",
      "  [ 0  0  0]\n",
      "  [ 0  0  0]\n",
      "  [ 0  0  0]\n",
      "  [ 0  0  0]\n",
      "  [ 0  0  0]]\n",
      "\n",
      " [[ 0  0  0]\n",
      "  [ 0  0  0]\n",
      "  [ 2  2  2]\n",
      "  [ 9  9  9]\n",
      "  [11 11 11]\n",
      "  [ 4  4  4]\n",
      "  [ 0  0  0]\n",
      "  [ 0  0  0]]\n",
      "\n",
      " [[ 0  0  0]\n",
      "  [ 1  1  1]\n",
      "  [15 15 15]\n",
      "  [ 9  9  9]\n",
      "  [ 8  8  8]\n",
      "  [16 16 16]\n",
      "  [ 2  2  2]\n",
      "  [ 0  0  0]]\n",
      "\n",
      " [[ 0  0  0]\n",
      "  [ 3  3  3]\n",
      "  [14 14 14]\n",
      "  [ 0  0  0]\n",
      "  [ 0  0  0]\n",
      "  [11 11 11]\n",
      "  [ 7  7  7]\n",
      "  [ 0  0  0]]\n",
      "\n",
      " [[ 0  0  0]\n",
      "  [ 3  3  3]\n",
      "  [15 15 15]\n",
      "  [ 0  0  0]\n",
      "  [ 0  0  0]\n",
      "  [ 9  9  9]\n",
      "  [ 8  8  8]\n",
      "  [ 0  0  0]]\n",
      "\n",
      " [[ 0  0  0]\n",
      "  [ 0  0  0]\n",
      "  [12 12 12]\n",
      "  [13 13 13]\n",
      "  [ 9  9  9]\n",
      "  [16 16 16]\n",
      "  [ 5  5  5]\n",
      "  [ 0  0  0]]\n",
      "\n",
      " [[ 0  0  0]\n",
      "  [ 0  0  0]\n",
      "  [ 1  1  1]\n",
      "  [ 6  6  6]\n",
      "  [ 8  8  8]\n",
      "  [ 5  5  5]\n",
      "  [ 0  0  0]\n",
      "  [ 0  0  0]]\n",
      "\n",
      " [[ 0  0  0]\n",
      "  [ 0  0  0]\n",
      "  [ 0  0  0]\n",
      "  [ 0  0  0]\n",
      "  [ 0  0  0]\n",
      "  [ 0  0  0]\n",
      "  [ 0  0  0]\n",
      "  [ 0  0  0]]]\n"
     ]
    }
   ],
   "source": [
    "for eachRow in img2:\n",
    "    for eachPixel in eachRow:\n",
    "        x_test.append(sum(eachPixel)/3.0)\n",
    "\n",
    "print(img2)"
   ]
  },
  {
   "cell_type": "code",
   "execution_count": null,
   "metadata": {
    "collapsed": true
   },
   "outputs": [],
   "source": []
  },
  {
   "cell_type": "code",
   "execution_count": null,
   "metadata": {
    "collapsed": true
   },
   "outputs": [],
   "source": []
  }
 ],
 "metadata": {
  "kernelspec": {
   "display_name": "Python [conda env:DSA6100JUPY]",
   "language": "python",
   "name": "conda-env-DSA6100JUPY-py"
  },
  "language_info": {
   "codemirror_mode": {
    "name": "ipython",
    "version": 3
   },
   "file_extension": ".py",
   "mimetype": "text/x-python",
   "name": "python",
   "nbconvert_exporter": "python",
   "pygments_lexer": "ipython3",
   "version": "3.6.2"
  }
 },
 "nbformat": 4,
 "nbformat_minor": 2
}
